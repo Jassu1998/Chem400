{
 "cells": [
  {
   "cell_type": "markdown",
   "metadata": {},
   "source": [
    "Hello!\n",
    "In the cell below I have written a random walk code:\n",
    "The code models how an object (e.g. ball, atom) gets propagated from node to node (e.g. person, surface site etc.) in a random manner. The model has 4 possible directions (with equal probability) from each node for simplicity.\n",
    "The code is by no means \"clean\" and doesn't use shortcuts that could be used to shorten the code."
   ]
  },
  {
   "cell_type": "code",
   "execution_count": 23,
   "metadata": {},
   "outputs": [
    {
     "name": "stdout",
     "output_type": "stream",
     "text": [
      "(-15, 13)\n",
      "\n",
      "(0, -4)\n",
      "(-5, 1)\n",
      "(0, 2)\n",
      "(7, -3)\n",
      "(9, -5)\n",
      "(6, -12)\n",
      "(3, 3)\n",
      "(-13, -3)\n",
      "(5, 5)\n",
      "(6, 2)\n"
     ]
    }
   ],
   "source": [
    "import random\n",
    "#The function below returns the x, y coordinates after a \"n\" step long random walk\n",
    "def randomwalk(n):\n",
    "    x = 0\n",
    "    y = 0\n",
    "    for i in range(n):\n",
    "        step = random.choice(['up','down','left','right'])\n",
    "        if step == 'up':\n",
    "            y = y + 1\n",
    "        elif step == 'down':\n",
    "            y = y - 1\n",
    "        elif step == 'left':\n",
    "            x = x - 1\n",
    "        elif step == 'right':\n",
    "            x = x + 1\n",
    "    return(x,y)\n",
    "#Here I randomly decide to do randomly 100 moves and see where I end up\n",
    "walk = randomwalk(100)\n",
    "print(walk)\n",
    "print() # empty line for clarity\n",
    "#Here I do 10 times a 100 step random walk\n",
    "for i in range(10):\n",
    "    walk = randomwalk(100)\n",
    "    print(walk)\n"
   ]
  },
  {
   "cell_type": "markdown",
   "metadata": {},
   "source": [
    "I suppose one could then do thousands of these random walks to see how far an object finds itself from the initial node on average after n steps.\n"
   ]
  }
 ],
 "metadata": {
  "kernelspec": {
   "display_name": "Python 3",
   "language": "python",
   "name": "python3"
  },
  "language_info": {
   "codemirror_mode": {
    "name": "ipython",
    "version": 3
   },
   "file_extension": ".py",
   "mimetype": "text/x-python",
   "name": "python",
   "nbconvert_exporter": "python",
   "pygments_lexer": "ipython3",
   "version": "3.7.6"
  }
 },
 "nbformat": 4,
 "nbformat_minor": 4
}
