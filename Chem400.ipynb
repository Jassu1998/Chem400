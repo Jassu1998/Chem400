{
 "cells": [
  {
   "cell_type": "markdown",
   "metadata": {},
   "source": [
    "Hello!\n",
    "In the cell below I have written a random walk code:\n",
    "The code models how an object (e.g. ball, atom) gets propagated from node to node (e.g. person, surface site etc.) in a random manner. The model has 4 possible directions (with equal probability) from each node for simplicity.\n",
    "The code is by no means \"clean\" and doesn't use shortcuts that could be used to shorten the code."
   ]
  },
  {
   "cell_type": "code",
   "execution_count": 2,
   "metadata": {},
   "outputs": [
    {
     "name": "stdout",
     "output_type": "stream",
     "text": [
      "(-3, -3)\n",
      "\n",
      "(-10, -10)\n",
      "(-4, 2)\n",
      "(9, -17)\n",
      "(11, -1)\n",
      "(0, 2)\n",
      "(-3, -9)\n",
      "(8, 4)\n",
      "(-11, 3)\n",
      "(1, -11)\n",
      "(3, 9)\n"
     ]
    }
   ],
   "source": [
    "import random\n",
    "#The function below returns the x, y coordinates after a \"n\" step long random walk\n",
    "def randomwalk(n):\n",
    "    x = 0\n",
    "    y = 0\n",
    "    for i in range(n):\n",
    "        step = random.choice(['up','down','left','right'])\n",
    "        if step == 'up':\n",
    "            y = y + 1\n",
    "        elif step == 'down':\n",
    "            y = y - 1\n",
    "        elif step == 'left':\n",
    "            x = x - 1\n",
    "        elif step == 'right':\n",
    "            x = x + 1\n",
    "    return(x,y)\n",
    "#Here I randomly decide to do randomly 100 moves and see where I end up\n",
    "walk = randomwalk(100)\n",
    "print(walk)\n",
    "print() # empty line for clarity\n",
    "#Here I do 10 times a 100 step random walk\n",
    "for i in range(10):\n",
    "    walk = randomwalk(100)\n",
    "    print(walk)\n"
   ]
  },
  {
   "cell_type": "markdown",
   "metadata": {},
   "source": [
    "I suppose one could then do thousands of these random walks to see how far an object finds itself from the initial node on average after n steps.Now, we can change the previous code slightly to turn it into a kMC model.\n"
   ]
  },
  {
   "cell_type": "code",
   "execution_count": 3,
   "metadata": {},
   "outputs": [
    {
     "name": "stdout",
     "output_type": "stream",
     "text": [
      "0 -1\n",
      "0.00924848787148407\n",
      "0 0\n",
      "0.5648454559526809\n",
      "0 -1\n",
      "1.4139573384070117\n",
      "0 -2\n",
      "2.417793272978453\n",
      "(0, -2)\n"
     ]
    }
   ],
   "source": [
    "import math\n",
    "def randomwalk():\n",
    "    t=0\n",
    "    x = 0\n",
    "    y = 0\n",
    "    while t<2:\n",
    "        step = random.choice(['up','down','left','right'])\n",
    "        #Here I invert the [0,1) interval of the random.random() to (0,1] to ensure we don't have the possibility of ln(0)\n",
    "        r=1-random.random()\n",
    "        #I chose the total rate to be 1 (0.25+0.25+0.25+0.25)\n",
    "        t=t-math.log(r)/1\n",
    "        if step == 'up':\n",
    "            y = y + 1\n",
    "        elif step == 'down':\n",
    "            y = y - 1\n",
    "        elif step == 'left':\n",
    "            x = x - 1\n",
    "        elif step == 'right':\n",
    "            x = x + 1\n",
    "        print(x,y)\n",
    "        print(t)\n",
    "    return(x,y)\n",
    "walk=randomwalk()\n",
    "print(walk)"
   ]
  },
  {
   "cell_type": "markdown",
   "metadata": {},
   "source": [
    "Now, this code can be also written in a more \"pythonny\" way, the code below does nearly the same thing as the code in the cell above\n"
   ]
  },
  {
   "cell_type": "code",
   "execution_count": 4,
   "metadata": {},
   "outputs": [
    {
     "name": "stdout",
     "output_type": "stream",
     "text": [
      "[-1, 0]\n",
      "0.09230615231000147\n",
      "[0, 0]\n",
      "1.4668139192829561\n",
      "[-1, 0]\n",
      "2.3550175649950384\n"
     ]
    }
   ],
   "source": [
    "import random\n",
    "import math\n",
    "def random_walk():\n",
    "    t = 0\n",
    "    position = [0,0] #initial position, x=0 and y=0\n",
    "    movements = [[0,1],[0,-1],[1,0],[-1,0]] # right,left, up,down\n",
    "    while t < 2:\n",
    "        step = random.choice(movements)\n",
    "        random_var = 1-random.random()\n",
    "        t = t- math.log(random_var)\n",
    "        for i in range(len(step)):\n",
    "            position[i] += step[i]\n",
    "        print(position)\n",
    "        print(t)\n",
    "random_walk()"
   ]
  },
  {
   "cell_type": "markdown",
   "metadata": {},
   "source": [
    "Now, this is already cool and the code obviously works. However, it would be nice for it to generate a list with the coordinates at each step; this could then be plotted to see how the  object moves randomly. I haven't managed to do this yet."
   ]
  },
  {
   "cell_type": "code",
   "execution_count": 1,
   "metadata": {
    "scrolled": false
   },
   "outputs": [
    {
     "name": "stdout",
     "output_type": "stream",
     "text": [
      "[0, 1]\n",
      "0.7926621681292835\n",
      "[0, 0]\n",
      "0.8927380959091786\n",
      "[0, 1]\n",
      "1.250951727688565\n",
      "[-1, 1]\n",
      "2.9123248240186035\n",
      "[[0, 1], [0, 0], [0, 1], [-1, 1]]\n"
     ]
    }
   ],
   "source": [
    "import random\n",
    "import math\n",
    "import copy\n",
    "def random_walk():\n",
    "    t = 0\n",
    "    position = [0,0] #initial position, x=0 and y=0\n",
    "    list_of_positions = []\n",
    "    movements = [[0,1],[0,-1],[1,0],[-1,0]] # up,down, right,down\n",
    "    while t < 2:\n",
    "        step = random.choice(movements)\n",
    "        random_var = 1-random.random()\n",
    "        t = t- math.log(random_var)\n",
    "        for i in range(len(step)):\n",
    "            position[i] += step[i]\n",
    "        print(position)\n",
    "        list_of_positions.append(copy.copy(position))\n",
    "        print(t)\n",
    "    return(list_of_positions)\n",
    "the_list = copy.copy(random_walk())\n",
    "print(the_list)"
   ]
  },
  {
   "cell_type": "code",
   "execution_count": 4,
   "metadata": {},
   "outputs": [
    {
     "name": "stdout",
     "output_type": "stream",
     "text": [
      "[-1, 0]\n",
      "0.9055428540814477\n",
      "[-2, 1]\n",
      "1.5265329935423324\n",
      "[-2, 0]\n",
      "2.3352800132094873\n",
      "[[-1, 0], [-2, 1], [-2, 0]]\n"
     ]
    }
   ],
   "source": [
    "import random\n",
    "import math\n",
    "import copy\n",
    "def random_walk():\n",
    "    time = 0\n",
    "    position = [0,0] #initial position, x=0 and y=0\n",
    "    list_of_positions = []\n",
    "    movements = [[0,1],[0,-1],[1,0],[-1,0],[1,1],[-1,1],[1,-1],[-1,-1]] # up,down,right,left,up-right,up-left,down-right,\n",
    "    while time < 2:\n",
    "        step = random.choice(movements)\n",
    "        random_var = 1-random.random()\n",
    "        time = time- math.log(random_var)\n",
    "        for i in range(len(step)):\n",
    "            position[i] += step[i]\n",
    "        print(position)\n",
    "        list_of_positions.append(copy.copy(position))\n",
    "        print(time)\n",
    "    return(list_of_positions)\n",
    "the_list = copy.copy(random_walk())\n",
    "print(the_list)"
   ]
  },
  {
   "cell_type": "code",
   "execution_count": 35,
   "metadata": {
    "scrolled": false
   },
   "outputs": [
    {
     "name": "stdout",
     "output_type": "stream",
     "text": [
      "[70, 76]\n"
     ]
    },
    {
     "data": {
      "image/png": "[encoded data removed]",
      "text/plain": [
       "<Figure size 432x288 with 1 Axes>"
      ]
     },
     "metadata": {
      "needs_background": "light"
     },
     "output_type": "display_data"
    }
   ],
   "source": [
    "import random\n",
    "import math\n",
    "import copy\n",
    "import matplotlib.pyplot as plt\n",
    "\n",
    " \n",
    "\n",
    "def random_walk():\n",
    "    a= random.randint(1,100)\n",
    "    b= random.randint(1,100)\n",
    "    print([a,b])\n",
    "    K_1=10 #up\n",
    "    K_2=10 #down\n",
    "    K_3=10 # right\n",
    "    K_4=10 #left\n",
    "    K_5=10 #right,top\n",
    "    K_6= 10 #left,top\n",
    "    K_7= 10 #right,bottom\n",
    "    K_8= 10 #left,bottom\n",
    "    K_tot= K_1+K_2+K_3+K_4+K_5+K_6+K_7+K_8\n",
    "    time = 0\n",
    "    position = [a, b]\n",
    "    list_of_positions = []\n",
    "    movements = [[0,1],[0,-1],[1,0],[-1,0],[1,1],[-1,1],[1,-1],[-1,-1]]\n",
    "    weights = [ K_1/K_tot,K_2/K_tot,K_3/K_tot,K_4/K_tot,K_5/K_tot,K_6/K_tot,K_7/K_tot,K_8/K_tot]\n",
    "    while time < 1000:\n",
    "        step = random.choices(movements, weights)[0]\n",
    "        random_var = 1 - random.random()\n",
    "        time = time - math.log(random_var)\n",
    "        for i in range(len(step)):\n",
    "            position[i] += step[i]\n",
    "        list_of_positions.append([copy.copy(position),round(time*100)/100])\n",
    "    return(list_of_positions)\n",
    "   \n",
    "\n",
    " \n",
    "\n",
    "list_list_pos = []\n",
    "for i in range(1):\n",
    "    list_list_pos.append(copy.copy(random_walk()))\n",
    "\n",
    " \n",
    "\n",
    "for list_pos in list_list_pos:\n",
    "    list_pos_no_time_x = []\n",
    "    list_pos_no_time_y = []\n",
    "    for pos in list_pos:\n",
    "        list_pos_no_time_x.append(pos[0][0])\n",
    "        list_pos_no_time_y.append(pos[0][1])\n",
    "    #print(list_pos_no_time_x)\n",
    "    #print(list_pos_no_time_y)\n",
    "    plt.plot(list_pos_no_time_x,list_pos_no_time_y,marker='o',c = 'blue')\n",
    "    plt.plot(list_pos_no_time_x[0],list_pos_no_time_y[0],list_pos_no_time_x[len(list_pos_no_time_x)-1],list_pos_no_time_y[len(list_pos_no_time_y)-1],marker='o',c = 'red')\n",
    "    \n",
    "plt.show()"
   ]
  },
  {
   "cell_type": "markdown",
   "metadata": {},
   "source": [
    "Now, this pattern looks very random. However, it can be influenced to go favourably in one direction, say top-right. See the code below, the corresponding rate constant is massive compared to the other ones.Event top right associated with 99.993% probability"
   ]
  },
  {
   "cell_type": "code",
   "execution_count": 39,
   "metadata": {},
   "outputs": [
    {
     "name": "stdout",
     "output_type": "stream",
     "text": [
      "[8, 60]\n"
     ]
    },
    {
     "data": {
      "image/png": "[encoded data removed]",
      "text/plain": [
       "<Figure size 432x288 with 1 Axes>"
      ]
     },
     "metadata": {
      "needs_background": "light"
     },
     "output_type": "display_data"
    }
   ],
   "source": [
    "import random\n",
    "import math\n",
    "import copy\n",
    "import matplotlib.pyplot as plt\n",
    "\n",
    " \n",
    "\n",
    "def random_walk():\n",
    "    a= random.randint(1,100)\n",
    "    b= random.randint(1,100)\n",
    "    print([a,b])\n",
    "    K_1=10 #up\n",
    "    K_2=10 #down\n",
    "    K_3=10 # right\n",
    "    K_4=10 #left\n",
    "    K_5=1000000 #right,top\n",
    "    K_6= 10 #left,top\n",
    "    K_7= 10 #right,bottom\n",
    "    K_8= 10 #left,bottom\n",
    "    K_tot= K_1+K_2+K_3+K_4+K_5+K_6+K_7+K_8\n",
    "    time = 0\n",
    "    position = [a, b]\n",
    "    list_of_positions = []\n",
    "    movements = [[0,1],[0,-1],[1,0],[-1,0],[1,1],[-1,1],[1,-1],[-1,-1]]\n",
    "    weights = [ K_1/K_tot,K_2/K_tot,K_3/K_tot,K_4/K_tot,K_5/K_tot,K_6/K_tot,K_7/K_tot,K_8/K_tot]\n",
    "    while time < 1000:\n",
    "        step = random.choices(movements, weights)[0]\n",
    "        random_var = 1 - random.random()\n",
    "        time = time - math.log(random_var)\n",
    "        for i in range(len(step)):\n",
    "            position[i] += step[i]\n",
    "        list_of_positions.append([copy.copy(position),round(time*100)/100])\n",
    "    return(list_of_positions)\n",
    "   \n",
    "\n",
    " \n",
    "\n",
    "list_list_pos = []\n",
    "for i in range(1):\n",
    "    list_list_pos.append(copy.copy(random_walk()))\n",
    "\n",
    " \n",
    "\n",
    "for list_pos in list_list_pos:\n",
    "    list_pos_no_time_x = []\n",
    "    list_pos_no_time_y = []\n",
    "    for pos in list_pos:\n",
    "        list_pos_no_time_x.append(pos[0][0])\n",
    "        list_pos_no_time_y.append(pos[0][1])\n",
    "    #print(list_pos_no_time_x)\n",
    "    #print(list_pos_no_time_y)\n",
    "    plt.plot(list_pos_no_time_x,list_pos_no_time_y,marker='o',c = 'blue')\n",
    "    plt.plot(list_pos_no_time_x[0],list_pos_no_time_y[0],list_pos_no_time_x[len(list_pos_no_time_x)-1],list_pos_no_time_y[len(list_pos_no_time_y)-1],marker='o',c = 'red')\n",
    "    \n",
    "plt.show()"
   ]
  },
  {
   "cell_type": "markdown",
   "metadata": {},
   "source": [
    "Bit of an overkill, but the line clearly appears to be perfectly linear, no signs of a random walk. How about we bring the ratio down from 1000000 to 10 (compared to another event) to 1000 to 10 (compared another event)?\n",
    "Event top-right now has a 93.45....% probability."
   ]
  },
  {
   "cell_type": "code",
   "execution_count": 38,
   "metadata": {},
   "outputs": [
    {
     "name": "stdout",
     "output_type": "stream",
     "text": [
      "[53, 37]\n"
     ]
    },
    {
     "data": {
      "image/png": "[encoded data removed]",
      "text/plain": [
       "<Figure size 432x288 with 1 Axes>"
      ]
     },
     "metadata": {
      "needs_background": "light"
     },
     "output_type": "display_data"
    }
   ],
   "source": [
    "import random\n",
    "import math\n",
    "import copy\n",
    "import matplotlib.pyplot as plt\n",
    "\n",
    " \n",
    "\n",
    "def random_walk():\n",
    "    a= random.randint(1,100)\n",
    "    b= random.randint(1,100)\n",
    "    print([a,b])\n",
    "    K_1=10 #up\n",
    "    K_2=10 #down\n",
    "    K_3=10 # right\n",
    "    K_4=10 #left\n",
    "    K_5=1000 #right,top\n",
    "    K_6= 10 #left,top\n",
    "    K_7= 10 #right,bottom\n",
    "    K_8= 10 #left,bottom\n",
    "    K_tot= K_1+K_2+K_3+K_4+K_5+K_6+K_7+K_8\n",
    "    time = 0\n",
    "    position = [a, b]\n",
    "    list_of_positions = []\n",
    "    movements = [[0,1],[0,-1],[1,0],[-1,0],[1,1],[-1,1],[1,-1],[-1,-1]]\n",
    "    weights = [ K_1/K_tot,K_2/K_tot,K_3/K_tot,K_4/K_tot,K_5/K_tot,K_6/K_tot,K_7/K_tot,K_8/K_tot]\n",
    "    while time < 1000:\n",
    "        step = random.choices(movements, weights)[0]\n",
    "        random_var = 1 - random.random()\n",
    "        time = time - math.log(random_var)\n",
    "        for i in range(len(step)):\n",
    "            position[i] += step[i]\n",
    "        list_of_positions.append([copy.copy(position),round(time*100)/100])\n",
    "    return(list_of_positions)\n",
    "   \n",
    "\n",
    " \n",
    "\n",
    "list_list_pos = []\n",
    "for i in range(1):\n",
    "    list_list_pos.append(copy.copy(random_walk()))\n",
    "\n",
    " \n",
    "\n",
    "for list_pos in list_list_pos:\n",
    "    list_pos_no_time_x = []\n",
    "    list_pos_no_time_y = []\n",
    "    for pos in list_pos:\n",
    "        list_pos_no_time_x.append(pos[0][0])\n",
    "        list_pos_no_time_y.append(pos[0][1])\n",
    "    #print(list_pos_no_time_x)\n",
    "    #print(list_pos_no_time_y)\n",
    "    plt.plot(list_pos_no_time_x,list_pos_no_time_y,marker='o',c = 'blue')\n",
    "    plt.plot(list_pos_no_time_x[0],list_pos_no_time_y[0],list_pos_no_time_x[len(list_pos_no_time_x)-1],list_pos_no_time_y[len(list_pos_no_time_y)-1],marker='o',c = 'red')\n",
    "    \n",
    "plt.show()"
   ]
  },
  {
   "cell_type": "markdown",
   "metadata": {},
   "source": [
    "Even when it's only 10^3 times bigger it shows a dominating effect. I will now bring it to a 100  to 10. Probability of top-right is now 58.82....%"
   ]
  },
  {
   "cell_type": "code",
   "execution_count": 40,
   "metadata": {},
   "outputs": [
    {
     "name": "stdout",
     "output_type": "stream",
     "text": [
      "[60, 1]\n"
     ]
    },
    {
     "data": {
      "image/png": "[encoded data removed]",
      "text/plain": [
       "<Figure size 432x288 with 1 Axes>"
      ]
     },
     "metadata": {
      "needs_background": "light"
     },
     "output_type": "display_data"
    }
   ],
   "source": [
    "import random\n",
    "import math\n",
    "import copy\n",
    "import matplotlib.pyplot as plt\n",
    "\n",
    " \n",
    "\n",
    "def random_walk():\n",
    "    a= random.randint(1,100)\n",
    "    b= random.randint(1,100)\n",
    "    print([a,b])\n",
    "    K_1=10 #up\n",
    "    K_2=10 #down\n",
    "    K_3=10 # right\n",
    "    K_4=10 #left\n",
    "    K_5=100 #right,top\n",
    "    K_6= 10 #left,top\n",
    "    K_7= 10 #right,bottom\n",
    "    K_8= 10 #left,bottom\n",
    "    K_tot= K_1+K_2+K_3+K_4+K_5+K_6+K_7+K_8\n",
    "    time = 0\n",
    "    position = [a, b]\n",
    "    list_of_positions = []\n",
    "    movements = [[0,1],[0,-1],[1,0],[-1,0],[1,1],[-1,1],[1,-1],[-1,-1]]\n",
    "    weights = [ K_1/K_tot,K_2/K_tot,K_3/K_tot,K_4/K_tot,K_5/K_tot,K_6/K_tot,K_7/K_tot,K_8/K_tot]\n",
    "    while time < 1000:\n",
    "        step = random.choices(movements, weights)[0]\n",
    "        random_var = 1 - random.random()\n",
    "        time = time - math.log(random_var)\n",
    "        for i in range(len(step)):\n",
    "            position[i] += step[i]\n",
    "        list_of_positions.append([copy.copy(position),round(time*100)/100])\n",
    "    return(list_of_positions)\n",
    "   \n",
    "\n",
    " \n",
    "\n",
    "list_list_pos = []\n",
    "for i in range(1):\n",
    "    list_list_pos.append(copy.copy(random_walk()))\n",
    "\n",
    " \n",
    "\n",
    "for list_pos in list_list_pos:\n",
    "    list_pos_no_time_x = []\n",
    "    list_pos_no_time_y = []\n",
    "    for pos in list_pos:\n",
    "        list_pos_no_time_x.append(pos[0][0])\n",
    "        list_pos_no_time_y.append(pos[0][1])\n",
    "    #print(list_pos_no_time_x)\n",
    "    #print(list_pos_no_time_y)\n",
    "    plt.plot(list_pos_no_time_x,list_pos_no_time_y,marker='o',c = 'blue')\n",
    "    plt.plot(list_pos_no_time_x[0],list_pos_no_time_y[0],list_pos_no_time_x[len(list_pos_no_time_x)-1],list_pos_no_time_y[len(list_pos_no_time_y)-1],marker='o',c = 'red')\n",
    "    \n",
    "plt.show()"
   ]
  },
  {
   "cell_type": "markdown",
   "metadata": {},
   "source": [
    "Even now, it still dominates considering , as we also have the possibility of getting top or right representing 2/7'ths of the remaining options."
   ]
  }
 ],
 "metadata": {
  "kernelspec": {
   "display_name": "Python 3",
   "language": "python",
   "name": "python3"
  },
  "language_info": {
   "codemirror_mode": {
    "name": "ipython",
    "version": 3
   },
   "file_extension": ".py",
   "mimetype": "text/x-python",
   "name": "python",
   "nbconvert_exporter": "python",
   "pygments_lexer": "ipython3",
   "version": "3.7.6"
  }
 },
 "nbformat": 4,
 "nbformat_minor": 4
}
